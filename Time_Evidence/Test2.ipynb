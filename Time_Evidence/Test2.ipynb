{
 "cells": [
  {
   "cell_type": "code",
   "execution_count": 1,
   "metadata": {},
   "outputs": [
    {
     "ename": "IndentationError",
     "evalue": "unexpected indent (<ipython-input-1-f74028d20850>, line 17)",
     "output_type": "error",
     "traceback": [
      "\u001b[1;36m  File \u001b[1;32m\"<ipython-input-1-f74028d20850>\"\u001b[1;36m, line \u001b[1;32m17\u001b[0m\n\u001b[1;33m    for freq, df_freq in df_link.groupby(\"channel\"):\u001b[0m\n\u001b[1;37m    ^\u001b[0m\n\u001b[1;31mIndentationError\u001b[0m\u001b[1;31m:\u001b[0m unexpected indent\n"
     ]
    }
   ],
   "source": [
    "import pandas as pd\n",
    "import json\n",
    "import matplotlib.pyplot as plt\n",
    "import matplotlib.dates as md\n",
    "\n",
    "plt.rcParams.update({'font.size': 14})\n",
    "import numpy as np\n",
    "pd.options.display.max_rows=10\n",
    "df = pd.read_table(\"grenoble_7.k7\",sep = ',',header = 0)\n",
    "df.head(10)\n",
    "df['datetime'] = pd.to_datetime(df['datetime'],format='%Y-%m-%d %H:%M:%S')\n",
    "df=df.set_index('datetime')\n",
    "plt.rcParams.update({'font.size': 14})\n",
    "color_list = [\"blue\", \"red\"]\n",
    "\n",
    " \n",
    "    for freq, df_freq in df_link.groupby(\"channel\"):\n",
    "        #plt.plot(df_freq.index, 0.8 * df_freq.mean_rssi / 100 + freq,\n",
    "        plt.plot(df_freq.index, 0.8 * df_freq.pdr + freq,\n",
    "                 '-', zorder=2, markersize=2,\n",
    "                 color=color_list[freq%len(color_list)])\n",
    "\n",
    "    day1_start = pd.to_datetime(\"2018-01-11 22:00:00.000\")\n",
    "    day1_stop = pd.to_datetime(\"2018-01-12 06:00:00.000\")\n",
    "    plt.fill_between([day1_start, day1_stop], 0, 30, color='#d5dbdb', alpha=0.5, zorder=1)\n",
    "\n",
    "    day2_start = pd.to_datetime(\"2018-01-12 22:00:00.000\")\n",
    "    day2_stop = pd.to_datetime(\"2018-01-13 06:00:00.000\")\n",
    "    plt.fill_between([day2_start, day2_stop], 0, 30, color='#d5dbdb', alpha=0.5, zorder=1)\n",
    "\n",
    "    #day3_start = pd.to_datetime(\"2018-01-13 20:00:00.000\")\n",
    "    #day3_stop = pd.to_datetime(\"2018-01-13 06:00:00.000\")\n",
    "    #plt.fill_between([day3_start, day3_stop], 0, 30, color='#d5dbdb', alpha=0.5, zorder=1)\n",
    "\n",
    "    plt.xlabel('Time')\n",
    "    plt.ylabel('PDR (%) per IEEE802.15.4 Channel')\n",
    "    #plt.ylabel('MEAN_RSSI (%) per IEEE802.15.4 Channel')\n",
    "    plt.ylim([10, 27])\n",
    "    plt.yticks(df.channel.unique())\n",
    "    #plt.xticks(df.index.unique())\n",
    "    plt.grid(True)\n",
    "    #xfmt = md.DateFormatter('%H:%M:%s')\n",
    "    #xfmt = md.DateFormatter('%M:%S')\n",
    "    xfmt = md.DateFormatter('%Y-%m-%d %H:%M:%S')\n",
    "    ax = plt.gca()\n",
    "    ax.xaxis.set_major_formatter(xfmt)\n",
    "    plt.gcf().autofmt_xdate()\n",
    "\n",
    "    plt.savefig(\"pdr_time_per_channel_{0}.png\".format(link), format='png', bbox_inches='tight', pad_inches=0)\n",
    "    #plt.savefig(\"rssi_time_per_channel_{0}.png\".format(link), format='png', bbox_inches='tight', pad_inches=0)\n",
    "    plt.clf()\n"
   ]
  },
  {
   "cell_type": "code",
   "execution_count": null,
   "metadata": {},
   "outputs": [],
   "source": []
  }
 ],
 "metadata": {
  "kernelspec": {
   "display_name": "Python 3",
   "language": "python",
   "name": "python3"
  },
  "language_info": {
   "codemirror_mode": {
    "name": "ipython",
    "version": 3
   },
   "file_extension": ".py",
   "mimetype": "text/x-python",
   "name": "python",
   "nbconvert_exporter": "python",
   "pygments_lexer": "ipython3",
   "version": "3.7.1"
  }
 },
 "nbformat": 4,
 "nbformat_minor": 2
}
