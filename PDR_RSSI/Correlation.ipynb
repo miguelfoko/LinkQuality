{
 "cells": [
  {
   "cell_type": "code",
   "execution_count": 1,
   "metadata": {},
   "outputs": [
    {
     "name": "stdout",
     "output_type": "stream",
     "text": [
      "0.4833630354236234\n"
     ]
    },
    {
     "data": {
      "text/plain": [
       "<Figure size 432x288 with 0 Axes>"
      ]
     },
     "metadata": {},
     "output_type": "display_data"
    }
   ],
   "source": [
    "import pandas as pd\n",
    "%matplotlib inline\n",
    "import matplotlib.pyplot as plt\n",
    "import statsmodels.api as sm\n",
    "import statsmodels.graphics.api as smg\n",
    "from sklearn import datasets, linear_model\n",
    "from statsmodels.formula.api import ols\n",
    "from patsy.highlevel import dmatrices\n",
    "\n",
    "pd.options.display.max_rows=10\n",
    "from datetime import datetime\n",
    "import numpy \n",
    "df = pd.read_table(\"grenoble_7.k7\",sep = ',',header = 0)\n",
    "\n",
    "data = [df['mean_rssi'], df['pdr'],df['tx_count']]\n",
    "\n",
    "correlations = df['mean_rssi'][0:].astype('float64').corr(df['pdr'][0:].astype('float64'))\n",
    "print(correlations)\n",
    "y, X = dmatrices('mean_rssi ~ pdr', data=df, return_type='dataframe')\n",
    "\n",
    "mod = sm.OLS(y, X)\n",
    "model = mod.fit()\n",
    "\n",
    "plt.plot(X,y, 'ro')\n",
    "plt.plot(X, model.fittedvalues, 'b')\n",
    "plt.ylim(-100,0)\n",
    "plt.xlim(0,1)\n",
    "#plt.hist(model.resid_pearson)\n",
    "\n",
    "plt.xlabel('PDR (%)')\n",
    "plt.ylabel('Average RSSI (in dBm)')\n",
    "plt.title('Linear regression')\n",
    "\n",
    "plt.savefig(\"Correlation_RSSI_PDR.png\", format='png', bbox_inches='tight', pad_inches=0)\n",
    "plt.clf()\n"
   ]
  },
  {
   "cell_type": "code",
   "execution_count": null,
   "metadata": {},
   "outputs": [],
   "source": []
  }
 ],
 "metadata": {
  "kernelspec": {
   "display_name": "Python 3",
   "language": "python",
   "name": "python3"
  },
  "language_info": {
   "codemirror_mode": {
    "name": "ipython",
    "version": 3
   },
   "file_extension": ".py",
   "mimetype": "text/x-python",
   "name": "python",
   "nbconvert_exporter": "python",
   "pygments_lexer": "ipython3",
   "version": "3.7.1"
  }
 },
 "nbformat": 4,
 "nbformat_minor": 2
}
