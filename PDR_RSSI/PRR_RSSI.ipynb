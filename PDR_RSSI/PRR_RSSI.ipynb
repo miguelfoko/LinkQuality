{
 "cells": [
  {
   "cell_type": "code",
   "execution_count": 1,
   "metadata": {},
   "outputs": [
    {
     "data": {
      "text/plain": [
       "<Figure size 432x288 with 0 Axes>"
      ]
     },
     "metadata": {},
     "output_type": "display_data"
    }
   ],
   "source": [
    "import pandas as pd\n",
    "%matplotlib inline\n",
    "import matplotlib.pyplot as plt\n",
    "pd.options.display.max_rows=10\n",
    "from datetime import datetime\n",
    "import numpy as np\n",
    "df = pd.read_table(\"grenoble_7.k7\",sep = ',',header = 0)\n",
    "\n",
    "\n",
    "plt.plot(df['mean_rssi'], df['pdr'])\n",
    "#plt.plot(df['pdr'], df['mean_rssi'])\n",
    "\n",
    "#df=df[[\"mean_rssi\",\"pdr\"]].groupby(\"pdr\", as_index=True)\n",
    "#df=df[[\"mean_rssi\",\"pdr\"]].groupby(\"mean_rssi\", as_index=True)\n",
    "\n",
    "#print(df)\n",
    "#plt.xlim(0, 1)  # decreasing time\n",
    "plt.xlim(-100, 0)  # decreasing time\n",
    "plt.ylim(0, 1)\n",
    "#plt.ylim(-100, 0)\n",
    "\n",
    "#plt.xlabel('PDR')\n",
    "plt.xlabel('MEAN RSSI')\n",
    "#plt.ylabel('MEAN RSSI')\n",
    "plt.ylabel('PDR')\n",
    "plt.title('Evolution of RSSI over PDR')\n",
    "plt.grid(True)\n",
    "\n",
    "#plt.show()\n",
    "plt.savefig(\"RSSI_BY_PDR.png\", format='png', bbox_inches='tight', pad_inches=0)\n",
    "#plt.savefig(\"PDR_BY_RSSI.png\", format='png', bbox_inches='tight', pad_inches=0)\n",
    "plt.clf()"
   ]
  },
  {
   "cell_type": "code",
   "execution_count": null,
   "metadata": {},
   "outputs": [],
   "source": []
  }
 ],
 "metadata": {
  "kernelspec": {
   "display_name": "Python 3",
   "language": "python",
   "name": "python3"
  },
  "language_info": {
   "codemirror_mode": {
    "name": "ipython",
    "version": 3
   },
   "file_extension": ".py",
   "mimetype": "text/x-python",
   "name": "python",
   "nbconvert_exporter": "python",
   "pygments_lexer": "ipython3",
   "version": "3.7.4"
  }
 },
 "nbformat": 4,
 "nbformat_minor": 2
}
