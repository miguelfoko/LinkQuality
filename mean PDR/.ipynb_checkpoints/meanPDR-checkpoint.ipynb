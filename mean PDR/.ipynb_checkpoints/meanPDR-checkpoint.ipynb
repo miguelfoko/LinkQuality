{
 "cells": [
  {
   "cell_type": "code",
   "execution_count": 2,
   "metadata": {},
   "outputs": [
    {
     "data": {
      "text/plain": [
       "<Figure size 720x360 with 0 Axes>"
      ]
     },
     "metadata": {},
     "output_type": "display_data"
    }
   ],
   "source": [
    "import pandas as pd\n",
    "%matplotlib inline\n",
    "import matplotlib.pyplot as plt\n",
    "pd.options.display.max_rows=10\n",
    "from datetime import datetime\n",
    "import numpy as np\n",
    "df = pd.read_table(\"grenoble_7.k7\",sep = ',',header = 0)\n",
    "list = [0 for i in range(15)]\n",
    "\n",
    "\n",
    "dep = df[[\"channel\",\"pdr\"]].groupby(\"channel\", as_index=True).mean()\n",
    "ax = dep.plot(kind = \"bar\", figsize=(10,5))\n",
    "ax.set_xlabel(\"IEEE802.15.4 Channel\", fontsize=16)\n",
    "ax.set_title(\"PDR\", fontsize=16)\n",
    "ax.legend().set_visible(False)  # on supprime la légende\n",
    "plt.ylim([0, 1])\n",
    "plt.grid(True)\n",
    "\n",
    "plt.savefig(\"Mean_PDR_PerChannel_Grenoble7.png\", format='png', bbox_inches='tight', pad_inches=0)\n",
    "plt.clf()"
   ]
  },
  {
   "cell_type": "code",
   "execution_count": null,
   "metadata": {},
   "outputs": [],
   "source": []
  }
 ],
 "metadata": {
  "kernelspec": {
   "display_name": "Python 3",
   "language": "python",
   "name": "python3"
  },
  "language_info": {
   "codemirror_mode": {
    "name": "ipython",
    "version": 3
   },
   "file_extension": ".py",
   "mimetype": "text/x-python",
   "name": "python",
   "nbconvert_exporter": "python",
   "pygments_lexer": "ipython3",
   "version": "3.7.1"
  }
 },
 "nbformat": 4,
 "nbformat_minor": 2
}
